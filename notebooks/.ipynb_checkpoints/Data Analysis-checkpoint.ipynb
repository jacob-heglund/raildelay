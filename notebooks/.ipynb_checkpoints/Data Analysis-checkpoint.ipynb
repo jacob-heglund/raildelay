{
 "cells": [
  {
   "cell_type": "markdown",
   "metadata": {},
   "source": [
    "# Imports"
   ]
  },
  {
   "cell_type": "code",
   "execution_count": 1,
   "metadata": {
    "ExecuteTime": {
     "end_time": "2020-01-14T23:15:42.125534Z",
     "start_time": "2020-01-14T23:15:40.982810Z"
    }
   },
   "outputs": [
    {
     "name": "stdout",
     "output_type": "stream",
     "text": [
      "C:\\home\\dev\\research\\train_delay_prediction\n"
     ]
    }
   ],
   "source": [
    "import os\n",
    "import pandas as pd\n",
    "import numpy as np\n",
    "import matplotlib.pyplot as plt\n",
    "\n",
    "os.chdir(\"C:/home/dev/research/train_delay_prediction\")\n",
    "print(os.getcwd())"
   ]
  },
  {
   "cell_type": "code",
   "execution_count": 2,
   "metadata": {
    "ExecuteTime": {
     "end_time": "2020-01-14T23:15:42.514014Z",
     "start_time": "2020-01-14T23:15:42.156428Z"
    }
   },
   "outputs": [],
   "source": [
    "data_path = \"./data/HSP_2016_DID_PAD.txt\"\n",
    "df = pd.read_csv(data_path, sep=\",\")\n",
    "\n",
    "# since the train cannot have arrival delay on it's \"starting\" stop, we remove these rows since they \n",
    "# do not contribute any information\n",
    "df = df[df.arrival_sched != \"starting\"]\n",
    "\n",
    "df[\"arrival_actual_datetime\"] = pd.to_datetime(df[\"date\"] + \" \" + df[\"arrival_actual\"])\n",
    "df[\"arrival_sched_datetime\"] = pd.to_datetime(df[\"date\"] + \" \" + df[\"arrival_sched\"])\n",
    "\n",
    "# arrival delay is positive if the train was late, and negative if the train was early\n",
    "df[\"arrival_delay_minutes\"] = ((df[\"arrival_actual_datetime\"] - df[\"arrival_sched_datetime\"]).dt.total_seconds()) / 60\n",
    "\n",
    "# alphabetize columns\n",
    "df = df.reindex(sorted(df.columns), axis=1)\n"
   ]
  },
  {
   "cell_type": "code",
   "execution_count": 19,
   "metadata": {
    "ExecuteTime": {
     "end_time": "2020-01-15T16:48:40.565051Z",
     "start_time": "2020-01-15T16:48:40.539118Z"
    }
   },
   "outputs": [
    {
     "data": {
      "text/html": [
       "<div>\n",
       "<style scoped>\n",
       "    .dataframe tbody tr th:only-of-type {\n",
       "        vertical-align: middle;\n",
       "    }\n",
       "\n",
       "    .dataframe tbody tr th {\n",
       "        vertical-align: top;\n",
       "    }\n",
       "\n",
       "    .dataframe thead th {\n",
       "        text-align: right;\n",
       "    }\n",
       "</style>\n",
       "<table border=\"1\" class=\"dataframe\">\n",
       "  <thead>\n",
       "    <tr style=\"text-align: right;\">\n",
       "      <th></th>\n",
       "      <th>RID</th>\n",
       "      <th>arrival_actual</th>\n",
       "      <th>arrival_actual_datetime</th>\n",
       "      <th>arrival_delay_minutes</th>\n",
       "      <th>arrival_sched</th>\n",
       "      <th>arrival_sched_datetime</th>\n",
       "      <th>date</th>\n",
       "      <th>departure_actual</th>\n",
       "      <th>departure_order_global</th>\n",
       "      <th>departure_sched</th>\n",
       "      <th>dwell_time_actual</th>\n",
       "      <th>dwell_time_sched</th>\n",
       "      <th>station_curr</th>\n",
       "      <th>station_destination</th>\n",
       "      <th>station_origin</th>\n",
       "      <th>stops_in_journey</th>\n",
       "      <th>travel_time_actual</th>\n",
       "      <th>travel_time_sched</th>\n",
       "    </tr>\n",
       "  </thead>\n",
       "  <tbody>\n",
       "    <tr>\n",
       "      <th>1</th>\n",
       "      <td>201601011279959</td>\n",
       "      <td>0902</td>\n",
       "      <td>2016-01-01 09:02:00</td>\n",
       "      <td>-3.0</td>\n",
       "      <td>0905</td>\n",
       "      <td>2016-01-01 09:05:00</td>\n",
       "      <td>2016-01-01</td>\n",
       "      <td>0904</td>\n",
       "      <td>1</td>\n",
       "      <td>0905</td>\n",
       "      <td>2.0</td>\n",
       "      <td>0.0</td>\n",
       "      <td>TAU</td>\n",
       "      <td>PAD</td>\n",
       "      <td>EXD</td>\n",
       "      <td>12</td>\n",
       "      <td>22.0</td>\n",
       "      <td>24.0</td>\n",
       "    </tr>\n",
       "    <tr>\n",
       "      <th>2</th>\n",
       "      <td>201601011279959</td>\n",
       "      <td>0925</td>\n",
       "      <td>2016-01-01 09:25:00</td>\n",
       "      <td>-2.0</td>\n",
       "      <td>0927</td>\n",
       "      <td>2016-01-01 09:27:00</td>\n",
       "      <td>2016-01-01</td>\n",
       "      <td>0928</td>\n",
       "      <td>1</td>\n",
       "      <td>0929</td>\n",
       "      <td>3.0</td>\n",
       "      <td>2.0</td>\n",
       "      <td>WSM</td>\n",
       "      <td>PAD</td>\n",
       "      <td>EXD</td>\n",
       "      <td>12</td>\n",
       "      <td>21.0</td>\n",
       "      <td>22.0</td>\n",
       "    </tr>\n",
       "    <tr>\n",
       "      <th>3</th>\n",
       "      <td>201601011279959</td>\n",
       "      <td>0937</td>\n",
       "      <td>2016-01-01 09:37:00</td>\n",
       "      <td>-2.0</td>\n",
       "      <td>0939</td>\n",
       "      <td>2016-01-01 09:39:00</td>\n",
       "      <td>2016-01-01</td>\n",
       "      <td>0939</td>\n",
       "      <td>1</td>\n",
       "      <td>0940</td>\n",
       "      <td>2.0</td>\n",
       "      <td>1.0</td>\n",
       "      <td>YAT</td>\n",
       "      <td>PAD</td>\n",
       "      <td>EXD</td>\n",
       "      <td>12</td>\n",
       "      <td>9.0</td>\n",
       "      <td>10.0</td>\n",
       "    </tr>\n",
       "    <tr>\n",
       "      <th>4</th>\n",
       "      <td>201601011279959</td>\n",
       "      <td>0944</td>\n",
       "      <td>2016-01-01 09:44:00</td>\n",
       "      <td>-2.0</td>\n",
       "      <td>0946</td>\n",
       "      <td>2016-01-01 09:46:00</td>\n",
       "      <td>2016-01-01</td>\n",
       "      <td>0947</td>\n",
       "      <td>1</td>\n",
       "      <td>0947</td>\n",
       "      <td>3.0</td>\n",
       "      <td>1.0</td>\n",
       "      <td>NLS</td>\n",
       "      <td>PAD</td>\n",
       "      <td>EXD</td>\n",
       "      <td>12</td>\n",
       "      <td>5.0</td>\n",
       "      <td>6.0</td>\n",
       "    </tr>\n",
       "    <tr>\n",
       "      <th>5</th>\n",
       "      <td>201601011279959</td>\n",
       "      <td>0957</td>\n",
       "      <td>2016-01-01 09:57:00</td>\n",
       "      <td>0.0</td>\n",
       "      <td>0957</td>\n",
       "      <td>2016-01-01 09:57:00</td>\n",
       "      <td>2016-01-01</td>\n",
       "      <td>0959</td>\n",
       "      <td>1</td>\n",
       "      <td>1000</td>\n",
       "      <td>2.0</td>\n",
       "      <td>3.0</td>\n",
       "      <td>BRI</td>\n",
       "      <td>PAD</td>\n",
       "      <td>EXD</td>\n",
       "      <td>12</td>\n",
       "      <td>10.0</td>\n",
       "      <td>10.0</td>\n",
       "    </tr>\n",
       "  </tbody>\n",
       "</table>\n",
       "</div>"
      ],
      "text/plain": [
       "               RID arrival_actual arrival_actual_datetime  \\\n",
       "1  201601011279959           0902     2016-01-01 09:02:00   \n",
       "2  201601011279959           0925     2016-01-01 09:25:00   \n",
       "3  201601011279959           0937     2016-01-01 09:37:00   \n",
       "4  201601011279959           0944     2016-01-01 09:44:00   \n",
       "5  201601011279959           0957     2016-01-01 09:57:00   \n",
       "\n",
       "   arrival_delay_minutes arrival_sched arrival_sched_datetime        date  \\\n",
       "1                   -3.0          0905    2016-01-01 09:05:00  2016-01-01   \n",
       "2                   -2.0          0927    2016-01-01 09:27:00  2016-01-01   \n",
       "3                   -2.0          0939    2016-01-01 09:39:00  2016-01-01   \n",
       "4                   -2.0          0946    2016-01-01 09:46:00  2016-01-01   \n",
       "5                    0.0          0957    2016-01-01 09:57:00  2016-01-01   \n",
       "\n",
       "  departure_actual  departure_order_global departure_sched  dwell_time_actual  \\\n",
       "1             0904                       1            0905                2.0   \n",
       "2             0928                       1            0929                3.0   \n",
       "3             0939                       1            0940                2.0   \n",
       "4             0947                       1            0947                3.0   \n",
       "5             0959                       1            1000                2.0   \n",
       "\n",
       "   dwell_time_sched station_curr station_destination station_origin  \\\n",
       "1               0.0          TAU                 PAD            EXD   \n",
       "2               2.0          WSM                 PAD            EXD   \n",
       "3               1.0          YAT                 PAD            EXD   \n",
       "4               1.0          NLS                 PAD            EXD   \n",
       "5               3.0          BRI                 PAD            EXD   \n",
       "\n",
       "   stops_in_journey  travel_time_actual  travel_time_sched  \n",
       "1                12                22.0               24.0  \n",
       "2                12                21.0               22.0  \n",
       "3                12                 9.0               10.0  \n",
       "4                12                 5.0                6.0  \n",
       "5                12                10.0               10.0  "
      ]
     },
     "execution_count": 19,
     "metadata": {},
     "output_type": "execute_result"
    }
   ],
   "source": [
    "df.head()\n"
   ]
  },
  {
   "cell_type": "code",
   "execution_count": 31,
   "metadata": {
    "ExecuteTime": {
     "end_time": "2020-01-15T16:55:43.007269Z",
     "start_time": "2020-01-15T16:55:42.951454Z"
    }
   },
   "outputs": [],
   "source": [
    "# # number of unique routes are run each day of the year (i.e. with unique station_origin and station_destination)\n",
    "# datetime_start = min(df[\"arrival_actual_datetime\"])\n",
    "# datetime_end = max(df[\"arrival_actual_datetime\"])\n",
    "# num_days = (datetime_end - datetime_start).days\n",
    "# day_arr = np.arange(start=0, stop=num_days, step=1)\n",
    "# train_arr = np.zeros(num_days)\n",
    "\n",
    "# for i in range(num_days):\n",
    "#     curr_year = (datetime_start + pd.Timedelta(i, unit=\"d\")).year\n",
    "#     curr_month = \"{:02d}\".format((datetime_start + pd.Timedelta(i, unit=\"d\")).month)\n",
    "#     curr_day = \"{:02d}\".format((datetime_start + pd.Timedelta(i, unit=\"d\")).day)\n",
    "#     curr_date = \"{}-{}-{}\".format(curr_year, curr_month, curr_day)\n",
    "#     df_tmp = df.loc[df[\"date\"] == curr_date]\n",
    "    \n",
    "#     # \n",
    "\n"
   ]
  },
  {
   "cell_type": "code",
   "execution_count": 20,
   "metadata": {
    "ExecuteTime": {
     "end_time": "2020-01-15T16:48:49.567395Z",
     "start_time": "2020-01-15T16:48:46.852848Z"
    }
   },
   "outputs": [],
   "source": [
    "# number of trains running each day of the year\n",
    "datetime_start = min(df[\"arrival_actual_datetime\"])\n",
    "datetime_end = max(df[\"arrival_actual_datetime\"])\n",
    "num_days = (datetime_end - datetime_start).days\n",
    "day_arr = np.arange(start=0, stop=num_days, step=1)\n",
    "train_arr = np.zeros(num_days)\n",
    "\n",
    "for i in range(num_days):\n",
    "    curr_year = (datetime_start + pd.Timedelta(i, unit=\"d\")).year\n",
    "    curr_month = \"{:02d}\".format((datetime_start + pd.Timedelta(i, unit=\"d\")).month)\n",
    "    curr_day = \"{:02d}\".format((datetime_start + pd.Timedelta(i, unit=\"d\")).day)\n",
    "    curr_date = \"{}-{}-{}\".format(curr_year, curr_month, curr_day)\n",
    "    df_tmp = df.loc[df[\"date\"] == curr_date]\n",
    "    \n",
    "    # the RIDs of the particular trains running that day\n",
    "    trains_running = np.unique(df_tmp[\"RID\"])\n",
    "    train_arr[i] = len(trains_running)\n",
    "    \n",
    "\n"
   ]
  },
  {
   "cell_type": "code",
   "execution_count": 22,
   "metadata": {
    "ExecuteTime": {
     "end_time": "2020-01-15T16:50:21.257035Z",
     "start_time": "2020-01-15T16:50:21.094467Z"
    }
   },
   "outputs": [
    {
     "name": "stdout",
     "output_type": "stream",
     "text": [
      "Total Unique Train IDs in 2016: 4828\n"
     ]
    },
    {
     "data": {
      "image/png": "[encoded data removed]",
      "text/plain": [
       "<Figure size 432x288 with 1 Axes>"
      ]
     },
     "metadata": {
      "needs_background": "light"
     },
     "output_type": "display_data"
    }
   ],
   "source": [
    "# the RID consists of the date, followed by another number.  \n",
    "# What does that other number signify?  I don't think it is a unique identifier for the particular train\n",
    "# df[\"RID\"] = df[\"RID\"].astype(str)\n",
    "# df[\"train_id\"] = df[\"RID\"].str.slice(8, -1)\n",
    "# num_trains = len(np.unique(df[\"train_id\"]))\n",
    "# num_trains\n",
    "\n",
    "# it looks like there is a weird data imbalance, each train \n",
    "plt.plot(day_arr, train_arr)\n",
    "plt.xlabel(\"Day of Year\")\n",
    "plt.ylabel(\"Number of Unique Trains\")\n",
    "plt.show()\n",
    "\n",
    "#TODO remove the days when 0 trains are running\n"
   ]
  },
  {
   "cell_type": "code",
   "execution_count": 6,
   "metadata": {
    "ExecuteTime": {
     "end_time": "2020-01-14T23:15:50.471121Z",
     "start_time": "2020-01-14T23:15:50.462146Z"
    }
   },
   "outputs": [
    {
     "name": "stdout",
     "output_type": "stream",
     "text": [
      "4828\n"
     ]
    }
   ],
   "source": []
  },
  {
   "cell_type": "code",
   "execution_count": null,
   "metadata": {
    "ExecuteTime": {
     "end_time": "2020-01-14T22:47:42.643244Z",
     "start_time": "2020-01-14T22:47:42.356568Z"
    }
   },
   "outputs": [],
   "source": [
    "# make histogram of arrival delay\n",
    "hist = plt.hist(df[\"arrival_delay_minutes\"], bins=100)\n",
    "plt.show()"
   ]
  },
  {
   "cell_type": "code",
   "execution_count": null,
   "metadata": {
    "ExecuteTime": {
     "end_time": "2020-01-14T22:47:44.468722Z",
     "start_time": "2020-01-14T22:47:44.333086Z"
    }
   },
   "outputs": [],
   "source": [
    "# make a CDF (cumulative distribution function) of arrival delay\n",
    "x = np.array(df[\"arrival_delay_minutes\"])\n",
    "x = np.sort(x)\n",
    "N = len(x)\n",
    "y = np.array(range(N)) / float(N)\n",
    "plt.plot(x, y)\n",
    "plt.show()"
   ]
  },
  {
   "cell_type": "code",
   "execution_count": null,
   "metadata": {},
   "outputs": [],
   "source": []
  }
 ],
 "metadata": {
  "kernelspec": {
   "display_name": "Python 3",
   "language": "python",
   "name": "python3"
  },
  "language_info": {
   "codemirror_mode": {
    "name": "ipython",
    "version": 3
   },
   "file_extension": ".py",
   "mimetype": "text/x-python",
   "name": "python",
   "nbconvert_exporter": "python",
   "pygments_lexer": "ipython3",
   "version": "3.7.2"
  },
  "toc": {
   "base_numbering": 1,
   "nav_menu": {},
   "number_sections": true,
   "sideBar": true,
   "skip_h1_title": false,
   "title_cell": "Table of Contents",
   "title_sidebar": "Contents",
   "toc_cell": false,
   "toc_position": {},
   "toc_section_display": true,
   "toc_window_display": false
  },
  "varInspector": {
   "cols": {
    "lenName": 16,
    "lenType": 16,
    "lenVar": 40
   },
   "kernels_config": {
    "python": {
     "delete_cmd_postfix": "",
     "delete_cmd_prefix": "del ",
     "library": "var_list.py",
     "varRefreshCmd": "print(var_dic_list())"
    },
    "r": {
     "delete_cmd_postfix": ") ",
     "delete_cmd_prefix": "rm(",
     "library": "var_list.r",
     "varRefreshCmd": "cat(var_dic_list()) "
    }
   },
   "types_to_exclude": [
    "module",
    "function",
    "builtin_function_or_method",
    "instance",
    "_Feature"
   ],
   "window_display": false
  }
 },
 "nbformat": 4,
 "nbformat_minor": 2
}
